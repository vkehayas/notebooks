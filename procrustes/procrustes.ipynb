{
 "cells": [
  {
   "cell_type": "markdown",
   "metadata": {},
   "source": [
    "+++\n",
    "title = \"3D image registration with procrustes analysis\"  \n",
    "\n",
    "date = 2018-04-14  \n",
    "draft = false  \n",
    "\n",
    "tags = [\"MATLAB\", \"image-analysis\", \"spines\", \"neuroscience\", \"image-registration\"]  \n",
    "summary = \"Pair-wise linear transformation based on feature coordinates\"  \n",
    "abstract = \"Pair-wise linear transformation based on feature coordinates\"  \n",
    "\n",
    "[header]  \n",
    "image = \"procrustes/dendritic_spines_short.gif\"  \n",
    "caption = \"\"  \n",
    "preview = true  \n",
    "description = \"An image stack acquired from a spiny dendrite inside the brain of a live mouse.\"  \n",
    "\n",
    "+++\n",
    "\n",
    "\n",
    "# Introduction\n",
    "\n",
    "How can we register three-dimensional points in space \n",
    "acquired from the same structure in different time-points?\n",
    "This is a problem I faced in my Ph.D. project \n",
    "where I was dealing with images of the same structure\n",
    "acquired at different time-points.\n",
    "For that project I was imaging dendritic spines,\n",
    "microscopic protrusions emanating from neurons,\n",
    "in alive mice ([Figure 1](#Fig1)).\n",
    "\n",
    "<div id=\"Fig1\">\n",
    "  <figure>\n",
    "    <img src=\"/img/procrustes/dendritic_spines.gif\">\n",
    "    <br>\n",
    "    <figcaption>An image stack acquired from a spiny dendrite \n",
    "        inside the brain of a live mouse.\n",
    "    </figcaption>\n",
    "  </figure>\n",
    "</div>\n",
    "\n",
    "Every spine was assigned an ID and tracked over all available time-points,\n",
    "and we were interested in spine positions on the dendrite.\n",
    "\n",
    "Even though I made every effort to acquire the images under similar conditions\n",
    "their alignment was never going to be perfect\n",
    "from one time-point to the next.\n",
    "To overcome the problems that \n",
    "such misalignments may cause \n",
    "when considering changes in distance to a fixed point over time,\n",
    "say a cortical column's center or the surface of the brain,\n",
    "I had to perform some sort of image registration.\n",
    "\n",
    "Two sources of information that can be useful when registering images are \n",
    "the intensity profiles of the image and the geometry of some of the image's features.\n",
    "For example, we could choose to calculate some correlation metric\n",
    "based on the intensity values of the image as a whole.\n",
    "Alternatively, we could take into account \n",
    "the relative positions of some structures in the image\n",
    "in order to generate the geometrical transformation.\n",
    "In our case, since spine morphology can change a lot from session to session,\n",
    "especially since the animal received externally-generated stimulation,\n",
    "I chose to focus on the second approach.\n",
    "\n",
    "A very simple method to register images based on feature coordinates\n",
    "is to apply a linear transformation,\n",
    "which assumes that no warping can occur between imaging sessions,\n",
    "i.e. the transformation is uniform across all structures considered.\n",
    "The possible transformations under this assumption are\n",
    "translation, rotation, scaling, and possibly reflection.\n",
    "The solution to finding the optimal linear transformation \n",
    "based on the sum of squared errors criterion is called\n",
    "[procrustes analysis](https://en.wikipedia.org/wiki/Procrustes_analysis).\n",
    "Below I provide an example of procrustes analysis implemented in MATLAB\n",
    "for the dendrite shown in [Figure 1](#Fig1).\n",
    "\n",
    "<sub>\n",
    "    (Please note: this post contains interactive visualizations through \n",
    "    [plot.ly](plot.ly) which are best viewed in landscape mode on mobile devices.\n",
    "    Also, 3D plots are not yet supported for iPads by plotly.)\n",
    "</sub>\n",
    "\n",
    "\n",
    "# Implementation\n",
    "\n",
    "First, let's have a look at the data for this example:\n"
   ]
  },
  {
   "cell_type": "code",
   "execution_count": null,
   "metadata": {},
   "outputs": [],
   "source": [
    "data = readtable('data.csv'); % Load data\n",
    "data = sortrows(data,'correlationID','ascend'); \n",
    "% Sort data based on correlation ID\n",
    "disp(data(data.correlationID == 1, :))\n",
    "% Select data for an example spine"
   ]
  },
  {
   "cell_type": "markdown",
   "metadata": {},
   "source": [
    "The above code loads the annotation data for the dendrite's spines\n",
    "and displays the data for a single spine.\n",
    "The variable `session` refers to the imaging day,\n",
    "`correlationID` to the spine identity,\n",
    "`x0` and `y0` to the coordinates of the base of the spine,\n",
    "`x1` and `y1` to the coordinates of the tip of the spine,\n",
    "and `z` to the slice corresponding to the plane\n",
    "in which the spine had the brightest fluorescence.\n",
    "All coordinates are in micrometers.\n",
    "\n",
    "Let's then plot the annotations for all spines from the first session.\n",
    "To do that I have defined a function, `selectRows`, that will simply \n",
    "return all coordinates that match a logical index,\n",
    "as I will be doing that a few times."
   ]
  },
  {
   "cell_type": "code",
   "execution_count": null,
   "metadata": {
    "scrolled": true
   },
   "outputs": [],
   "source": [
    "type('selectRows.m')"
   ]
  },
  {
   "cell_type": "code",
   "execution_count": null,
   "metadata": {
    "scrolled": false
   },
   "outputs": [],
   "source": [
    "imatlab_export_fig('fig2plotly') \n",
    "% Use the plotly graphics engine \n",
    "% in a Jupyter notebook with the imatlab kernel\n",
    "\n",
    "indSession1 = data.session == 1;\n",
    "[X1, Y1, Z1] = selectRows(data, indSession1);\n",
    "% Select coordinates from the first session for illustration\n",
    "\n",
    "figure()\n",
    "plot3(X1, Y1, Z1, 'ko', 'MarkerFaceColor', 'k')"
   ]
  },
  {
   "cell_type": "markdown",
   "metadata": {},
   "source": [
    "We want to see what kind of displacements we are facing so I am going to add spines from the second session to the previous plot:"
   ]
  },
  {
   "cell_type": "code",
   "execution_count": null,
   "metadata": {},
   "outputs": [],
   "source": [
    "indSession2 = data.session == 2;\n",
    "[X2, Y2, Z2] = selectRows(data, indSession2);\n",
    "\n",
    "figure(); hold 'on';\n",
    "plot3(X1, Y1, Z1, 'ko', 'MarkerFaceColor', 'k')\n",
    "plot3(X2, Y2, Z2, 'ro', 'MarkerFaceColor', 'r')\n",
    "legend('Session 1', 'Session 2')"
   ]
  },
  {
   "cell_type": "markdown",
   "metadata": {},
   "source": [
    "We see that spines appear and disappear, and that part of the dendrite is shifted.\n",
    "Next, we will select those spines that are present in both the first and second sessions:"
   ]
  },
  {
   "cell_type": "code",
   "execution_count": null,
   "metadata": {},
   "outputs": [],
   "source": [
    "commonIDs = intersect(data.correlationID(indSession1), ...\n",
    "                      data.correlationID(indSession2));\n",
    "idInd = ismember(data.correlationID, commonIDs);\n",
    "\n",
    "[sX1, sY1, sZ1] = selectRows(data, indSession1 & idInd);\n",
    "[sX2, sY2, sZ2] = selectRows(data, indSession2 & idInd);"
   ]
  },
  {
   "cell_type": "markdown",
   "metadata": {},
   "source": [
    "We are now ready to apply the procrustes analysis:"
   ]
  },
  {
   "cell_type": "code",
   "execution_count": null,
   "metadata": {},
   "outputs": [],
   "source": [
    "[d, XYZ, C] = procrustes([sX1, sY1, sZ1], [sX2, sY2, sZ2]);"
   ]
  },
  {
   "cell_type": "markdown",
   "metadata": {},
   "source": [
    "The sum-of-squared-errors criterion is defined as:\n",
    "\n",
    "$$ d = \\sum _ {i=1 }^{n} \\sum _ {j=1}^{p} (M _ {i,j}  - N _ {i,j}) ^ 2 \\enspace \\text, \\tag{1}\n",
    "$$\n",
    "\n",
    "where $n$ the number of spines used for the registration, \n",
    "$p$ the number of coordinates per spine $\\\\{ x, y, z \\\\}$, i.e. $p = 3$,\n",
    "$M$ the coordinates of spines in the first session,\n",
    "and $N$ the new set of coordinates for the second session after transformation. The function `procrustes` reports $d'$, stored in the above call in variable `d`, which is $d$ standarized by the sum of square errors of a centered version of $M$:\n",
    "\n",
    "$$ d' = \\frac {d} {\\sum \\sum\\limits _ {i = 1}^{n} {(M _ {i}  -  \\overline{M})} ^ 2} \\enspace \\text, \\tag{2}\n",
    "$$\n",
    "\n",
    "where $\\overline{M}$ the average $\\\\{x, y, z \\\\}$ coordinates across all spines of the first session.\n",
    "\n",
    "In our example $d'$ was pretty low:"
   ]
  },
  {
   "cell_type": "code",
   "execution_count": null,
   "metadata": {},
   "outputs": [],
   "source": [
    "disp(d)"
   ]
  },
  {
   "cell_type": "markdown",
   "metadata": {},
   "source": [
    "which indicates that the registration was succesful.\n",
    "\n",
    "The variable `XYZ` contains the transformed coordinates for the included spines of the second session.\n",
    "We are not going to be using it since we are interested in applying the transformation to all spines of the second session, not just those that were also present in the first session.\n",
    "\n",
    "The variable `C` contains the components for the tranformation:"
   ]
  },
  {
   "cell_type": "code",
   "execution_count": null,
   "metadata": {
    "scrolled": true
   },
   "outputs": [],
   "source": [
    "disp(C)"
   ]
  },
  {
   "cell_type": "markdown",
   "metadata": {},
   "source": [
    "`T` corresponds to the rotation and reflection component, `b` to the scale component, and `c` to the translation component. They are chosen so as to minimize $d'$ while satisfying the following equation:\n",
    "$$ N = b*M'*T + c \\tag{3}\n",
    "$$\n",
    "\n",
    "By simply applying this transformation to all spines of the second session we obtain the new coordinates:"
   ]
  },
  {
   "cell_type": "code",
   "execution_count": null,
   "metadata": {},
   "outputs": [],
   "source": [
    "N = C.b * [X2, Y2, Z2] * C.T + C.c(1,:);"
   ]
  },
  {
   "cell_type": "markdown",
   "metadata": {},
   "source": [
    "Let's now plot again the coordinates for spines from the first session and our new coordinates for spines from the second session, and see how we did:"
   ]
  },
  {
   "cell_type": "code",
   "execution_count": null,
   "metadata": {},
   "outputs": [],
   "source": [
    "figure; hold on;\n",
    "plot3(X1, Y1, Z1, 'ko', 'MarkerFaceColor', 'k')\n",
    "plot3(X2, Y2, Z2, 'ro', 'MarkerFaceColor', 'r')\n",
    "plot3(N(:,1), N(:,2), N(:,3), 'bo', 'MarkerFaceColor', 'b')\n",
    "legend('Original Session 1', 'Original Session 2', 'Transformed Session 2')"
   ]
  },
  {
   "cell_type": "markdown",
   "metadata": {},
   "source": [
    "You may want to use your mouse or finger to navigate through the image \n",
    "and click on the legend of the figure above to toggle viewing the corresponding data.\n",
    "We now simply need to write a function that runs all the above for all sessions."
   ]
  },
  {
   "cell_type": "code",
   "execution_count": null,
   "metadata": {},
   "outputs": [],
   "source": [
    "type('applyProcrustes.m')"
   ]
  },
  {
   "cell_type": "markdown",
   "metadata": {},
   "source": [
    "All we have done is to wrap our previous commands in a sub-function\n",
    "which accepts the session variable in a generalized way,\n",
    "and pass that function to `cellfun` that in turn applies it to data for all sessions.\n",
    "The usage of `cellfun` over a conventional for-loop is advantageous in this case,\n",
    "as it provides an order of magnitude gain in speed,\n",
    "something that can make a difference if the function is run over many datasets."
   ]
  },
  {
   "cell_type": "markdown",
   "metadata": {},
   "source": [
    "One thing that we could have done differently is,\n",
    "instead of arbitrarily choosing one session (the first in our case) as the reference,\n",
    "we could take into account information from all sessions.\n",
    "For example, in generalized procrustes analysis \n",
    "the reference is chosen as an optimally determined \"mean\" shape.\n",
    "Such functionality is already implemented in the R package [shapes](https://cran.r-project.org/web/packages/shapes/shapes.pdf)."
   ]
  },
  {
   "cell_type": "code",
   "execution_count": null,
   "metadata": {},
   "outputs": [],
   "source": []
  }
 ],
 "metadata": {
  "celltoolbar": "Edit Metadata",
  "kernelspec": {
   "display_name": "MATLAB",
   "language": "matlab",
   "name": "imatlab"
  },
  "language_info": {
   "codemirror_mode": "octave",
   "file_extension": ".m",
   "mimetype": "text/x-matlab",
   "name": "matlab",
   "nbconvert_exporter": "imatlab._exporter.MatlabExporter",
   "pygments_lexer": "matlab",
   "version": "9.2.0.538062 (R2017a)"
  }
 },
 "nbformat": 4,
 "nbformat_minor": 2
}
